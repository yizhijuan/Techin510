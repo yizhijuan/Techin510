{
 "cells": [
  {
   "cell_type": "code",
   "execution_count": 12,
   "id": "9987db5e",
   "metadata": {},
   "outputs": [],
   "source": [
    "import pandas as pd\n",
    "import matplotlib.pyplot as plt\n",
    "import random\n",
    "import string"
   ]
  },
  {
   "cell_type": "code",
   "execution_count": 3,
   "id": "cba9ee45",
   "metadata": {},
   "outputs": [],
   "source": [
    "positive = list(pd.read_csv(\"/Users/yizhijuan/Documents/001UW/510 Digital/Lab1/positive_words.txt\", header=0).iloc[:,0].values)\n",
    "negative = list(pd.read_csv(\"/Users/yizhijuan/Documents/001UW/510 Digital/Lab1/negative_words.txt\", header=0).iloc[:,0].values)"
   ]
  },
  {
   "cell_type": "code",
   "execution_count": 28,
   "id": "670abad1",
   "metadata": {},
   "outputs": [],
   "source": [
    "\n",
    "def count(response, words_list):\n",
    "    count = 0\n",
    "    for str1 in response.split(' '):\n",
    "        str1 = str1.translate(str.maketrans('', '', string.punctuation))\n",
    "        str1 = str1.lower()\n",
    "        #print(str1)\n",
    "        for str2 in words_list:\n",
    "            if str1 == str2:\n",
    "                count = count + 1\n",
    "    return count\n",
    "def posi_or_neg(response):\n",
    "    count_positive = count(response, positive)\n",
    "    count_negative = count(response, negative)\n",
    "    if count_positive > count_negative:\n",
    "        print(random.choice(posi_res))\n",
    "        mood = 1\n",
    "    elif count_positive < count_negative:\n",
    "        print(random.choice(neg_res))\n",
    "        mood = -1\n",
    "    else:\n",
    "        print(random.choice(neu_res))\n",
    "        mood = 0\n",
    "    return mood"
   ]
  },
  {
   "cell_type": "code",
   "execution_count": 36,
   "id": "eeda192b",
   "metadata": {},
   "outputs": [],
   "source": [
    "record = pd.DataFrame()\n",
    "posi_res = [\"Great!\", \"Cool!\",\"Nice!\"]\n",
    "neg_res = [\"Too bad!\", \"Womp, womp!\"]\n",
    "neu_res = [\"Well\", \"I see.\", \"Sounds great.\"]\n",
    "question = [\"How are you today?\", \"Do you have any plans for today?\", \"With whom?\", \"Where to?\"]"
   ]
  },
  {
   "cell_type": "code",
   "execution_count": 43,
   "id": "3d14c157",
   "metadata": {},
   "outputs": [
    {
     "name": "stdout",
     "output_type": "stream",
     "text": [
      "Hi! What is your name? Cindy\n",
      "Nice to meet you, Cindy! You can type QT to quit.\n",
      "How are you today?\n",
      "Feel good.\n",
      "Nice!\n",
      "Do you have any plans for today?\n",
      "Do my homework.\n",
      "Sounds great.\n",
      "With whom?\n",
      "By myself.\n",
      "Well\n",
      "Where to?\n",
      "At GIX.\n",
      "Sounds great.\n",
      "Thanks for your response. Have a good day!\n"
     ]
    }
   ],
   "source": [
    "username = input(\"Hi! What is your name? \")\n",
    "user_response = []\n",
    "moods = []\n",
    "quit = \"QT\"\n",
    "print(f'Nice to meet you, {username}! You can type {quit} to quit.')\n",
    "i = 0\n",
    "print(question[i])\n",
    "response = input()\n",
    "mood = posi_or_neg(response)\n",
    "while response != quit and i < 3:\n",
    "    i = i+1\n",
    "    print(question[i])\n",
    "    response = input()\n",
    "    posi_or_neg(response)\n",
    "    new_response = {'user_name': username, 'question': question[i], 'response': response, 'moods': mood}\n",
    "    user_response.append(new_response)\n",
    "    \n",
    "new_data = pd.DataFrame(user_response)\n",
    "record = pd.concat([record, new_data])\n",
    "print(\"Thanks for your response. Have a good day!\")"
   ]
  },
  {
   "cell_type": "code",
   "execution_count": 44,
   "id": "b9a97be7",
   "metadata": {},
   "outputs": [
    {
     "data": {
      "text/html": [
       "<div>\n",
       "<style scoped>\n",
       "    .dataframe tbody tr th:only-of-type {\n",
       "        vertical-align: middle;\n",
       "    }\n",
       "\n",
       "    .dataframe tbody tr th {\n",
       "        vertical-align: top;\n",
       "    }\n",
       "\n",
       "    .dataframe thead th {\n",
       "        text-align: right;\n",
       "    }\n",
       "</style>\n",
       "<table border=\"1\" class=\"dataframe\">\n",
       "  <thead>\n",
       "    <tr style=\"text-align: right;\">\n",
       "      <th></th>\n",
       "      <th>user_name</th>\n",
       "      <th>question</th>\n",
       "      <th>response</th>\n",
       "      <th>moods</th>\n",
       "    </tr>\n",
       "  </thead>\n",
       "  <tbody>\n",
       "    <tr>\n",
       "      <th>0</th>\n",
       "      <td>A</td>\n",
       "      <td>Do you have any plans for today?</td>\n",
       "      <td>yeah. eating</td>\n",
       "      <td>1</td>\n",
       "    </tr>\n",
       "    <tr>\n",
       "      <th>1</th>\n",
       "      <td>A</td>\n",
       "      <td>With whom?</td>\n",
       "      <td>my friends</td>\n",
       "      <td>1</td>\n",
       "    </tr>\n",
       "    <tr>\n",
       "      <th>2</th>\n",
       "      <td>A</td>\n",
       "      <td>Where to?</td>\n",
       "      <td>at home</td>\n",
       "      <td>1</td>\n",
       "    </tr>\n",
       "    <tr>\n",
       "      <th>0</th>\n",
       "      <td>Bob</td>\n",
       "      <td>Do you have any plans for today?</td>\n",
       "      <td>relax</td>\n",
       "      <td>-1</td>\n",
       "    </tr>\n",
       "    <tr>\n",
       "      <th>1</th>\n",
       "      <td>Bob</td>\n",
       "      <td>With whom?</td>\n",
       "      <td>myself</td>\n",
       "      <td>-1</td>\n",
       "    </tr>\n",
       "    <tr>\n",
       "      <th>2</th>\n",
       "      <td>Bob</td>\n",
       "      <td>Where to?</td>\n",
       "      <td>at home</td>\n",
       "      <td>-1</td>\n",
       "    </tr>\n",
       "    <tr>\n",
       "      <th>0</th>\n",
       "      <td>Cindy</td>\n",
       "      <td>Do you have any plans for today?</td>\n",
       "      <td>Do my homework.</td>\n",
       "      <td>1</td>\n",
       "    </tr>\n",
       "    <tr>\n",
       "      <th>1</th>\n",
       "      <td>Cindy</td>\n",
       "      <td>With whom?</td>\n",
       "      <td>By myself.</td>\n",
       "      <td>1</td>\n",
       "    </tr>\n",
       "    <tr>\n",
       "      <th>2</th>\n",
       "      <td>Cindy</td>\n",
       "      <td>Where to?</td>\n",
       "      <td>At GIX.</td>\n",
       "      <td>1</td>\n",
       "    </tr>\n",
       "  </tbody>\n",
       "</table>\n",
       "</div>"
      ],
      "text/plain": [
       "  user_name                          question         response  moods\n",
       "0         A  Do you have any plans for today?     yeah. eating      1\n",
       "1         A                        With whom?       my friends      1\n",
       "2         A                         Where to?          at home      1\n",
       "0       Bob  Do you have any plans for today?            relax     -1\n",
       "1       Bob                        With whom?           myself     -1\n",
       "2       Bob                         Where to?          at home     -1\n",
       "0     Cindy  Do you have any plans for today?  Do my homework.      1\n",
       "1     Cindy                        With whom?       By myself.      1\n",
       "2     Cindy                         Where to?          At GIX.      1"
      ]
     },
     "execution_count": 44,
     "metadata": {},
     "output_type": "execute_result"
    }
   ],
   "source": [
    "record"
   ]
  },
  {
   "cell_type": "code",
   "execution_count": 48,
   "id": "e42d7f27",
   "metadata": {},
   "outputs": [
    {
     "data": {
      "text/plain": [
       "<AxesSubplot:ylabel='moods'>"
      ]
     },
     "execution_count": 48,
     "metadata": {},
     "output_type": "execute_result"
    },
    {
     "data": {
      "image/png": "[encoded data removed]",
      "text/plain": [
       "<Figure size 432x288 with 1 Axes>"
      ]
     },
     "metadata": {},
     "output_type": "display_data"
    }
   ],
   "source": [
    "record['moods'].value_counts().plot(kind='pie', autopct='%.2f%%')"
   ]
  },
  {
   "cell_type": "code",
   "execution_count": null,
   "id": "643d1913",
   "metadata": {},
   "outputs": [],
   "source": []
  },
  {
   "cell_type": "code",
   "execution_count": null,
   "id": "907fd54c",
   "metadata": {},
   "outputs": [],
   "source": []
  }
 ],
 "metadata": {
  "kernelspec": {
   "display_name": "Python 3 (ipykernel)",
   "language": "python",
   "name": "python3"
  },
  "language_info": {
   "codemirror_mode": {
    "name": "ipython",
    "version": 3
   },
   "file_extension": ".py",
   "mimetype": "text/x-python",
   "name": "python",
   "nbconvert_exporter": "python",
   "pygments_lexer": "ipython3",
   "version": "3.9.12"
  }
 },
 "nbformat": 4,
 "nbformat_minor": 5
}
